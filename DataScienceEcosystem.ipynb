{
  "nbformat": 4,
  "nbformat_minor": 0,
  "metadata": {
    "colab": {
      "provenance": []
    },
    "kernelspec": {
      "name": "python3",
      "display_name": "Python 3"
    },
    "language_info": {
      "name": "python"
    }
  },
  "cells": [
    {
      "cell_type": "code",
      "execution_count": null,
      "metadata": {
        "id": "PGqZXzLjfwcy"
      },
      "outputs": [],
      "source": []
    },
    {
      "cell_type": "markdown",
      "source": [
        "## Data Science Tools and Ecosystem"
      ],
      "metadata": {
        "id": "cCNauNBSf78q"
      }
    },
    {
      "cell_type": "markdown",
      "source": [
        "In this notebook, Data Science Tools and Ecosystem are summarized."
      ],
      "metadata": {
        "id": "zqDWdYaXhcSQ"
      }
    },
    {
      "cell_type": "markdown",
      "source": [
        "**Objectives:**\n",
        "\n",
        "\n",
        "*   List popular languages for Data Science\n",
        "*   List popular libraries for Data Science\n",
        "*   List popular tools for Data Science\n",
        "*   Perform simple arithmetic operation\n",
        "*   Covert 200 minutes to hours\n",
        "\n"
      ],
      "metadata": {
        "id": "3LIe0MAzPbPx"
      }
    },
    {
      "cell_type": "markdown",
      "source": [
        "Some of the popular languages that Data Scientists use are:\n",
        "\n",
        "1.   R Programming language\n",
        "2.   Python programming language\n",
        "3.   Julia\n"
      ],
      "metadata": {
        "id": "Uk0M2Rtih8XT"
      }
    },
    {
      "cell_type": "markdown",
      "source": [
        "Some of the commonly used libraries used by Data Scientists include:\n",
        "\n",
        "1.   Numpy\n",
        "2.   Pandas\n",
        "3.   Matplotlib\n",
        "4.   Seaborn\n",
        "5.   Scikit learn\n",
        "\n",
        "\n",
        "\n"
      ],
      "metadata": {
        "id": "NyPCHq5Qi5J8"
      }
    },
    {
      "cell_type": "markdown",
      "source": [
        "|Name |\n",
        "|-----|\n",
        "|VS Studio |\n",
        "|Anaconda|\n",
        "|Google Colab|"
      ],
      "metadata": {
        "id": "-wRt_oZizaxJ"
      }
    },
    {
      "cell_type": "code",
      "source": [
        "# This a simple arithmetic expression to mutiply then add integers\n",
        "(3*4)+5"
      ],
      "metadata": {
        "id": "_OMopBqPzrEU",
        "colab": {
          "base_uri": "https://localhost:8080/"
        },
        "outputId": "ea50dbb7-d84a-469c-9e66-9b296a2ce127"
      },
      "execution_count": 3,
      "outputs": [
        {
          "output_type": "execute_result",
          "data": {
            "text/plain": [
              "17"
            ]
          },
          "metadata": {},
          "execution_count": 3
        }
      ]
    },
    {
      "cell_type": "code",
      "source": [
        "# This will convert 200 minutes to hours by diving by 60\n",
        "200/60"
      ],
      "metadata": {
        "colab": {
          "base_uri": "https://localhost:8080/"
        },
        "id": "5v1Nh1iWOlAy",
        "outputId": "5f70ec42-f80d-4841-b4a3-cb9bd11d01bd"
      },
      "execution_count": 4,
      "outputs": [
        {
          "output_type": "execute_result",
          "data": {
            "text/plain": [
              "3.3333333333333335"
            ]
          },
          "metadata": {},
          "execution_count": 4
        }
      ]
    },
    {
      "cell_type": "markdown",
      "source": [
        "# Author\n",
        "Matthew Oladapo"
      ],
      "metadata": {
        "id": "wmtBMnD6QdE6"
      }
    }
  ]
}